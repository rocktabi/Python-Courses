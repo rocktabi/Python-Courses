{
 "cells": [
  {
   "cell_type": "markdown",
   "metadata": {},
   "source": [
    "### DataTypes \n",
    "\n",
    "1. Integer : int -> Its stores whole numbers. ex -3, 2, 500.\n",
    "2. Floating Point Number : float -> The number which have decimal point in it are floating point number. ex : 2.3, -2.3\n",
    "3. String : str -> Ordered sequence of characters. Example : \"name\"\n",
    "4. boolean : bool -> True or false"
   ]
  },
  {
   "cell_type": "markdown",
   "metadata": {},
   "source": [
    "# Datastructure \n",
    "\n",
    "Datastructure are something which stores object or mapping in it.\n",
    "1. List : It stores the ordered sequence of objects : [1, 2, \"Somendra\", \"Solo\", 6, 7, 8]\n",
    "    Java Sytntax : int [] arr = new int[2]\n",
    "    1. Size is fixed.\n",
    "    2. It is only going to store integer type value but in python it is going to store any type of object.\n",
    "\n",
    "2. Dictionary : In dictinary we store the data in the form of key value pairs. It is something which stores mapping in it. In the below example delhi is mapped to india.  {\"key\" : \"value\"}.\n",
    "    example : {\n",
    "        \"India\" : \"Delhi\",\n",
    "        \"USA\" : \"Washington DC\"\n",
    "    }\n",
    "\n",
    "3. Tuples : It is similar to lists. It is immutable by immutable we understand that its value cannot be changed. It is fixed. \n",
    "    example : (1, 2, \"3\", \"SOmendra\") \n",
    "\n",
    "4. Sets : It is something which stores the unique elements in it and that is unordered. \n",
    "    example : {\"India\", \"USA\", \"Germany\"}\n"
   ]
  }
 ],
 "metadata": {
  "language_info": {
   "name": "python"
  },
  "orig_nbformat": 4
 },
 "nbformat": 4,
 "nbformat_minor": 2
}
